{
  "nbformat": 4,
  "nbformat_minor": 0,
  "metadata": {
    "colab": {
      "name": "Notebook6_starter.ipynb",
      "provenance": [],
      "include_colab_link": true
    },
    "kernelspec": {
      "name": "python3",
      "display_name": "Python 3"
    },
    "language_info": {
      "name": "python"
    },
    "accelerator": "GPU"
  },
  "cells": [
    {
      "cell_type": "markdown",
      "metadata": {
        "id": "view-in-github",
        "colab_type": "text"
      },
      "source": [
        "<a href=\"https://colab.research.google.com/github/taylorvroman09/Taylor-Public/blob/main/Notebook6_Vroman.ipynb\" target=\"_parent\"><img src=\"https://colab.research.google.com/assets/colab-badge.svg\" alt=\"Open In Colab\"/></a>"
      ]
    },
    {
      "cell_type": "markdown",
      "metadata": {
        "id": "aMMJIr-UOq0-"
      },
      "source": [
        "Taylor Vroman"
      ]
    },
    {
      "cell_type": "markdown",
      "metadata": {
        "id": "XHNyMbAY0QB5"
      },
      "source": [
        "# Notebook \\# 6\n",
        "Name: Taylor Vroman\n",
        "Date: 29 November 2021\n",
        "\n",
        "\n",
        "## Problem Description:\n",
        "\n",
        "\n",
        "\n",
        "### Hints/ Tips Tricks\n",
        "- Don't forget to enable GPUs under 'Edit', 'Notebook Settings', 'Accerlate Hardware', 'GPU'.\n",
        "- Make sure you unzip the data and put it in your Drive.\n"
      ]
    },
    {
      "cell_type": "markdown",
      "metadata": {
        "id": "yGHdtjgIGbcl"
      },
      "source": [
        ""
      ]
    },
    {
      "cell_type": "markdown",
      "metadata": {
        "id": "TPpqW_R3OM05"
      },
      "source": [
        "This data will run epochs to determine the most accurate approach necessary to determine if a chest xray is normal or of a patient with pneumonia.  "
      ]
    },
    {
      "cell_type": "code",
      "metadata": {
        "id": "9TyLjTVU0MQr",
        "outputId": "219b50bd-f741-479b-c4f6-9c22682193ce",
        "colab": {
          "base_uri": "https://localhost:8080/"
        }
      },
      "source": [
        "import keras\n",
        "import tensorflow \n",
        "import sys\n",
        "from matplotlib import pyplot\n",
        "from tensorflow.keras.utils import to_categorical\n",
        "from keras.models import Sequential\n",
        "from keras.layers import Conv2D\n",
        "from keras.layers import MaxPooling2D\n",
        "from keras.layers import Dense\n",
        "from keras.layers import Flatten\n",
        "from tensorflow.keras.optimizers import SGD\n",
        "from keras.preprocessing.image import ImageDataGenerator\n",
        "import sys\n",
        "\n",
        "## Connect to Drive\n",
        "from google.colab import drive\n",
        "import pandas\n",
        "drive.mount('/content/drive')\n",
        "\n",
        "## Image dimensions\n",
        "img_width = 200\n",
        "img_height = 200\n",
        "\n",
        "## Directories for testing and training data\n",
        "train_data_dir = '/content/drive/MyDrive/MachineLearning/chest_xray/train' \n",
        "test_data_dir = '/content/drive/MyDrive/MachineLearning/chest_xray/test'\n",
        "\n",
        "## To feed the training images to the neural network in batches of 32 images at a time\n",
        "batch_size = 32\n",
        "\n",
        "## Rescale pixel values from [0, 255] to between 0 and 1\n",
        "datagen = ImageDataGenerator(rescale=1.0/255.0)\n",
        "\n",
        "## Look for training and testing data and figure out the class of each example based on subfolder\n",
        "train_data = datagen.flow_from_directory(\n",
        "        train_data_dir,\n",
        "        target_size=(img_width, img_height),\n",
        "        batch_size=batch_size,\n",
        "        class_mode='binary')\n",
        "\n",
        "test_data = datagen.flow_from_directory(\n",
        "        test_data_dir,\n",
        "        target_size=(img_width, img_height),\n",
        "        batch_size=batch_size,\n",
        "        class_mode='binary')"
      ],
      "execution_count": 3,
      "outputs": [
        {
          "output_type": "stream",
          "name": "stdout",
          "text": [
            "Mounted at /content/drive\n",
            "Found 5216 images belonging to 2 classes.\n",
            "Found 624 images belonging to 2 classes.\n"
          ]
        }
      ]
    },
    {
      "cell_type": "markdown",
      "metadata": {
        "id": "ykKs-WbyORef"
      },
      "source": [
        "Build a baseline CNN that has this structure:\n",
        "- Conv layer 1\n",
        "- Pool layer 1\n",
        "- Conv layer 2\n",
        "- Pool layer 2\n",
        "- Flatten\n",
        "- Fully Connected (Dense)"
      ]
    },
    {
      "cell_type": "code",
      "metadata": {
        "id": "t_i-Cfa41ZvU",
        "outputId": "6a710b08-37e3-43a2-e85f-8cf9bb984d4a",
        "colab": {
          "base_uri": "https://localhost:8080/"
        }
      },
      "source": [
        "# Build your CNN here\n",
        "\n",
        "#We'll try a second model, this time with pooling layers after each convolutional layer\n",
        "model2 = Sequential()\n",
        "model2.add(Conv2D(32, (2, 2), activation = 'relu', input_shape=(img_width, img_height, 3)))\n",
        "model2.add(MaxPooling2D(pool_size=(2, 2)))\n",
        "\n",
        "model2.add(Conv2D(32, (2, 2),activation = 'relu'))\n",
        "model2.add(MaxPooling2D(pool_size=(2, 2)))\n",
        "\n",
        "model2.add(Conv2D(64, (2, 2),activation = 'relu'))\n",
        "model2.add(MaxPooling2D(pool_size=(2, 2)))\n",
        "\n",
        "model2.add(Flatten())\n",
        "model2.add(Dense(64,activation = 'relu'))\n",
        "model2.add(Dense(1,activation='sigmoid'))\n",
        "\n",
        "# need to compile the model before you can use it\n",
        "opt = SGD(lr=0.001, momentum=0.9)\n",
        "model2.compile(optimizer=opt, loss='binary_crossentropy', metrics=['accuracy'])\n"
      ],
      "execution_count": 4,
      "outputs": [
        {
          "output_type": "stream",
          "name": "stderr",
          "text": [
            "/usr/local/lib/python3.7/dist-packages/keras/optimizer_v2/gradient_descent.py:102: UserWarning: The `lr` argument is deprecated, use `learning_rate` instead.\n",
            "  super(SGD, self).__init__(name, **kwargs)\n"
          ]
        }
      ]
    },
    {
      "cell_type": "code",
      "metadata": {
        "id": "8xpXWni0GZal",
        "outputId": "525c74a1-1fb3-4441-cb8a-00268c1d9cf5",
        "colab": {
          "base_uri": "https://localhost:8080/"
        }
      },
      "source": [
        "training_results2 = model2.fit_generator(\n",
        "        train_data, #training set\n",
        "        steps_per_epoch = len(train_data), \n",
        "        epochs=1, #number of epochs \n",
        "        validation_data = test_data, #testing set\n",
        "        validation_steps = len(test_data)\n",
        "        )"
      ],
      "execution_count": 5,
      "outputs": [
        {
          "output_type": "stream",
          "name": "stderr",
          "text": [
            "/usr/local/lib/python3.7/dist-packages/ipykernel_launcher.py:6: UserWarning: `Model.fit_generator` is deprecated and will be removed in a future version. Please use `Model.fit`, which supports generators.\n",
            "  \n"
          ]
        },
        {
          "output_type": "stream",
          "name": "stdout",
          "text": [
            "163/163 [==============================] - 986s 6s/step - loss: 0.5589 - accuracy: 0.7433 - val_loss: 0.5975 - val_accuracy: 0.6266\n"
          ]
        }
      ]
    },
    {
      "cell_type": "markdown",
      "metadata": {
        "id": "K-mq0RA5W5Z_"
      },
      "source": [
        "Just 1 epoch took 37 minutes...so that's why I just ran 1!"
      ]
    },
    {
      "cell_type": "markdown",
      "metadata": {
        "id": "MUmapvMUOYKW"
      },
      "source": [
        "Build a tuned CNN--simply a CNN that has some changes from the first one. You may change whichever parameters you like (consider the kernel size, the number of layers, the types of layer, the number of feature maps in each layer, adding dropout layers, etc). Just make some sort of change that you think might be significant, train you new model, and compare its performance to the original. In a text-cell, describe what you changed.\n",
        "\n",
        "You should train each model for enough epochs that your performance on the test set stops improving (i.e., show where you reach overfitting) OR for at least 30 minutes of training time. If you would like to further experiment with additional changes, that is fine, but because these things sometimes take a long time to train, I'm setting a low bar for just showing me two variations.\n"
      ]
    },
    {
      "cell_type": "markdown",
      "metadata": {
        "id": "JvvLcp-XOjm6"
      },
      "source": [
        "Include graphs of how well your testing data performed vs. the training data."
      ]
    },
    {
      "cell_type": "code",
      "metadata": {
        "id": "s7SDKrvEGEUg",
        "outputId": "c29f5cd1-a99f-4e2b-c324-8738f7e004e8",
        "colab": {
          "base_uri": "https://localhost:8080/"
        }
      },
      "source": [
        "# Tuned CNN\n",
        "\n",
        "model3 = Sequential()\n",
        "model3.add(Conv2D(32, (4, 4), activation = 'relu', input_shape=(img_width, img_height, 3)))\n",
        "model3.add(MaxPooling2D(pool_size=(3, 3)))\n",
        "\n",
        "model3.add(Conv2D(32, (4, 4),activation = 'relu'))\n",
        "model3.add(MaxPooling2D(pool_size=(3, 3)))\n",
        "\n",
        "model3.add(Conv2D(64, (4, 4),activation = 'relu'))\n",
        "model3.add(MaxPooling2D(pool_size=(3, 3)))\n",
        "\n",
        "model3.add(Flatten())\n",
        "model3.add(Dense(64,activation = 'relu'))\n",
        "model3.add(Dense(1,activation='sigmoid'))\n",
        "\n",
        "# need to compile the model before you can use it\n",
        "opt = SGD(lr=0.001, momentum=0.9)\n",
        "model3.compile(optimizer=opt, loss='binary_crossentropy', metrics=['accuracy'])"
      ],
      "execution_count": 6,
      "outputs": [
        {
          "output_type": "stream",
          "name": "stderr",
          "text": [
            "/usr/local/lib/python3.7/dist-packages/keras/optimizer_v2/gradient_descent.py:102: UserWarning: The `lr` argument is deprecated, use `learning_rate` instead.\n",
            "  super(SGD, self).__init__(name, **kwargs)\n"
          ]
        }
      ]
    },
    {
      "cell_type": "code",
      "metadata": {
        "id": "wEI6woNBbKqd",
        "outputId": "10b3ee2c-da36-49a7-9c2e-9c92c6301ff7",
        "colab": {
          "base_uri": "https://localhost:8080/"
        }
      },
      "source": [
        "training_results3 = model3.fit_generator(\n",
        "        train_data, #training set\n",
        "        steps_per_epoch = len(train_data), \n",
        "        epochs=1, #number of epochs \n",
        "        validation_data = test_data, #testing set\n",
        "        validation_steps = len(test_data)\n",
        "        )"
      ],
      "execution_count": 7,
      "outputs": [
        {
          "output_type": "stream",
          "name": "stderr",
          "text": [
            "/usr/local/lib/python3.7/dist-packages/ipykernel_launcher.py:6: UserWarning: `Model.fit_generator` is deprecated and will be removed in a future version. Please use `Model.fit`, which supports generators.\n",
            "  \n"
          ]
        },
        {
          "output_type": "stream",
          "name": "stdout",
          "text": [
            "163/163 [==============================] - 21s 122ms/step - loss: 0.5845 - accuracy: 0.7291 - val_loss: 0.7256 - val_accuracy: 0.6250\n"
          ]
        }
      ]
    },
    {
      "cell_type": "markdown",
      "metadata": {
        "id": "narR5v-CEx2c"
      },
      "source": [
        "I realize the code below does not result in an effective graph. This is because there is only 1 epoch value (because it took 37 mins!). This code would be used at showing the accuracies across epochs, and the range could be changed in the plt.xlim line."
      ]
    },
    {
      "cell_type": "code",
      "metadata": {
        "id": "RGpElndb9naj",
        "outputId": "df687ee6-5c5f-490a-e50f-c2752fa55b00",
        "colab": {
          "base_uri": "https://localhost:8080/",
          "height": 295
        }
      },
      "source": [
        "import matplotlib.pyplot as plt\n",
        "%matplotlib inline\n",
        "plt.plot(training_results2.history['accuracy'])\n",
        "plt.plot(training_results2.history['val_accuracy'])\n",
        "plt.title('model accuracy')\n",
        "plt.ylabel('accuracy')\n",
        "plt.xlabel('epoch')\n",
        "plt.legend(['train', 'test'], loc='upper left')\n",
        "plt.xlim([0.5,1.5])\n",
        "plt.show()"
      ],
      "execution_count": 10,
      "outputs": [
        {
          "output_type": "display_data",
          "data": {
            "image/png": "[encoded data removed]",
            "text/plain": [
              "<Figure size 432x288 with 1 Axes>"
            ]
          },
          "metadata": {
            "needs_background": "light"
          }
        }
      ]
    },
    {
      "cell_type": "markdown",
      "metadata": {
        "id": "6Z4a-3RAFEp_"
      },
      "source": [
        "The same goes for the following plot - except for tuned CNN values. "
      ]
    },
    {
      "cell_type": "code",
      "metadata": {
        "id": "qV7h9tqRFBVY"
      },
      "source": [
        "import matplotlib.pyplot as plt\n",
        "%matplotlib inline\n",
        "plt.plot(training_results3.history['accuracy'])\n",
        "plt.plot(training_results3.history['val_accuracy'])\n",
        "plt.title('model accuracy')\n",
        "plt.ylabel('accuracy')\n",
        "plt.xlabel('epoch')\n",
        "plt.legend(['train', 'test'], loc='upper left')\n",
        "plt.xlim([0.5,1.5])\n",
        "plt.show()"
      ],
      "execution_count": null,
      "outputs": []
    },
    {
      "cell_type": "markdown",
      "metadata": {
        "id": "h2y6W44pOl6G"
      },
      "source": [
        "Conclusions: Answer the following questions in a markup cell at the bottom of your notebook.\n",
        "\n",
        "What configuration of your CNN proved to be more accurate? Why do you think this is the case?\n",
        "How accurate can you make your CNN predictor? I will award a bonus point to the student who can achieve the most accurate model."
      ]
    },
    {
      "cell_type": "markdown",
      "metadata": {
        "id": "8jJr7DX9Fa3-"
      },
      "source": [
        "The tuned data has an accuracy of 0.7291 (changed to 4 conv layers and 3 pooled layers) and the untuned data has an accuracy of 0.7433 (3 conv layers and 2 pooled). This suggests that the tuned data has been overfitted. Could make this more accurate by alterting the layers even more. "
      ]
    }
  ]
}